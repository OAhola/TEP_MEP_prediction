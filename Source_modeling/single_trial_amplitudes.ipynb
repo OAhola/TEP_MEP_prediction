{
 "cells": [
  {
   "cell_type": "code",
   "execution_count": null,
   "metadata": {},
   "outputs": [],
   "source": [
    "#extract response amplitudes from each trial\n",
    "import os\n",
    "import mne\n",
    "import numpy as np\n",
    "from reftep_util_funcs import *\n",
    "import shutil\n",
    "responses_dipoles = ['n15','p30','n45','p60']\n",
    "responses_emg = ['mep']\n",
    "responses_all = responses_dipoles + responses_emg\n",
    "\n",
    "\n",
    "\n",
    "for site in ['Tuebingen','Aalto']:\n",
    "    site_path_sources = fr\"D:\\REFTEP_ALL\\Source_analysis\\Source_analysis_{site}\"\n",
    "    site_path_preprocessing = fr\"D:\\REFTEP_ALL\\EEG_preprocessing_data\\Preprocessing_{site}\"\n",
    "    for subject in os.listdir(site_path_sources):\n",
    "        subject_source_path = os.path.join(site_path_sources,subject)\n",
    "        forward = mne.read_forward_solution(os.path.join(subject_source_path,f'{subject}-fwd.fif'),verbose=False) #read forward solution\n",
    "        #read eeg epochs\n",
    "        epochs = mne.read_epochs(os.path.join(subject_source_path,f'{subject}_final_eeg-epo.fif'),verbose=False)\n",
    "        epochs_data = epochs.get_data(copy=True) #load the epochs data into a separate structure\n",
    "        n_trials = epochs_data.shape[0] #number of trials\n",
    "        #read emg epochs\n",
    "        emg_epochs = mne.read_epochs_eeglab(os.path.join(site_path_preprocessing,subject,f'{subject}_EMG_aligned_final.set'),verbose=False) #load emg data\n",
    "        #define paths to save data to\n",
    "        dipoles_folder_path = os.path.join(subject_source_path,f'{subject}_dipoles')\n",
    "        mep_ptps_filepath = os.path.join(subject_source_path,f'{subject}_mep_amplitudes')\n",
    "        for response_type in responses_all:\n",
    "            if response_type in responses_emg:\n",
    "                mep_ptps = get_mep_ptps(emg_epochs,tmin=0.02, tmax=0.05)\n",
    "                np.save(mep_ptps_filepath, mep_ptps)\n",
    "                print(f'{subject}, mep amps mean std, {np.mean(mep_ptps)}, {np.std(mep_ptps)}')\n",
    "            elif response_type in responses_dipoles: #dipoles separately to emg\n",
    "                dipole_now = mne.read_dipole(os.path.join(dipoles_folder_path,f'{subject}_dipole_{response_type}')) #filepath for the dipole\n",
    "                potential_times = np.load(os.path.join(dipoles_folder_path,f'{subject}_dipole_{response_type}_fitting_times.npy'))\n",
    "                tmin, tmax = np.min(potential_times), np.max(potential_times) #min and max time of the fitting range\n",
    "                pos_ind = int(dipole_now.name.split(\"_\")[-1]) #the position of the dipole is saved here\n",
    "                dipoles_path_now = os.path.join(dipoles_folder_path,f'{subject}_dipole_{response_type}_trials') #define path to save single trial dipoles\n",
    "                if os.path.exists(dipoles_path_now):\n",
    "                    shutil.rmtree(dipoles_path_now)\n",
    "                os.makedirs(dipoles_path_now,exist_ok=True)\n",
    "                dipamps = []\n",
    "                dipgofs = []\n",
    "                for trial_ind in range(n_trials):\n",
    "                    evoked_trial = mne.EvokedArray(data=epochs_data[trial_ind,:,:], info=epochs.info, tmin=epochs.times[0],nave=1, kind='single_epoch',verbose=False)\n",
    "                    dipole_trial, _, _ = lsq_dipole_to_pos(forward, evoked_trial, tmin, tmax, pos_ind, n_times=int(round((tmax-tmin)*1000))+1, ori_fixed=None) #use free orientation to extract responses\n",
    "                    dipgofs.append(dipole_trial.gof[0])\n",
    "                    dipamps.append(dipole_trial.amplitude[0])\n",
    "                    trial_dipole_path = os.path.join(dipoles_path_now,f'{subject}_dipole_{response_type}_trial_{trial_ind}')\n",
    "                    dipole_trial.save(trial_dipole_path,overwrite=True,verbose=False)\n",
    "                print(f'{subject},{response_type}, mean and std of gof and amp {np.mean(dipgofs)}, {np.std(dipgofs)}, {np.mean(dipamps)*1e9}, {np.std(dipamps)*1e9}')\n"
   ]
  },
  {
   "cell_type": "code",
   "execution_count": null,
   "metadata": {},
   "outputs": [],
   "source": []
  }
 ],
 "metadata": {
  "kernelspec": {
   "display_name": "base",
   "language": "python",
   "name": "python3"
  },
  "language_info": {
   "codemirror_mode": {
    "name": "ipython",
    "version": 3
   },
   "file_extension": ".py",
   "mimetype": "text/x-python",
   "name": "python",
   "nbconvert_exporter": "python",
   "pygments_lexer": "ipython3",
   "version": "3.11.7"
  }
 },
 "nbformat": 4,
 "nbformat_minor": 2
}
