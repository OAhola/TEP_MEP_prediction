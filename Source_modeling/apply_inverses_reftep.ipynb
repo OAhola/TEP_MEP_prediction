{
 "cells": [
  {
   "cell_type": "code",
   "execution_count": null,
   "metadata": {},
   "outputs": [],
   "source": [
    "import os\n",
    "import mne\n",
    "depth = 0.8\n",
    "lambda2 = 0.1\n",
    "recon_all_dir = r\"D:\\REFTEP_ALL\\REFTEP_reco\"\n",
    "path_in_server = fr\" \"\n",
    "os.mkdir(path_in_server)\n",
    "for mri_dir in os.listdir(recon_all_dir):\n",
    "    if 'fatsuppressed' not in mri_dir:\n",
    "        subjects_mri_directory = os.path.join(recon_all_dir,mri_dir)\n",
    "        site = mri_dir.split(\"_\")[0]\n",
    "        source_site = rf\"D:\\REFTEP_ALL\\Source_analysis\\Source_analysis_{site}\"\n",
    "        source_site_server = os.path.join(path_in_server,site)\n",
    "        os.mkdir(source_site_server)\n",
    "        for subject in os.listdir(subjects_mri_directory):\n",
    "            if \"sub-\" not in subject:\n",
    "                continue\n",
    "            reftep_subject = subject.split(\"_reco\")[0]\n",
    "            subject_reftep_now = [name for name in os.listdir(source_site) if reftep_subject in name]\n",
    "            if len(subject_reftep_now) not in [0,1]:\n",
    "                print(\"Too many identifiers for this subject\")\n",
    "                break\n",
    "            elif len(subject_reftep_now) == 0:\n",
    "                print(f'did not find subject {reftep_subject} in {source_site}')\n",
    "            else:\n",
    "                reftep_subject = subject_reftep_now[0]\n",
    "                subject_path_server = os.path.join(source_site_server,reftep_subject)\n",
    "                os.mkdir(subject_path_server)\n",
    "                sourcepath_subject = os.path.join(source_site,reftep_subject)\n",
    "                subject_mri_dir = os.path.join(subjects_mri_directory,subject)#the subject mri directory in subjects_mri_directory\n",
    "                epochs_file = os.path.join(sourcepath_subject,f'{reftep_subject}_final_eeg-epo.fif') #epochs file with digitization coordinates\n",
    "                epochs = mne.read_epochs(epochs_file)\n",
    "                transpath = os.path.join(sourcepath_subject,f'{reftep_subject}_coreg',f'{reftep_subject}-trans.fif') #eeg-mri coregistration transformation matrix\n",
    "                bempath = os.path.join(subject_mri_dir, 'bem','bem-solution')\n",
    "                bem_solution = mne.read_bem_solution(bempath) #load the bem solution\n",
    "                fname_src = os.path.join(subjects_mri_directory,subject,f'{subject}-oct-6-src.fif')\n",
    "                src = mne.read_source_spaces(fname_src) #read source spaces\n",
    "                fwd_fname = os.path.join(sourcepath_subject, f'{reftep_subject}-fwd.fif')\n",
    "                fwd = mne.read_forward_solution(fwd_fname)\n",
    "                cov_fname = os.path.join(sourcepath_subject, f'{reftep_subject}_adhoc-cov.fif')\n",
    "                cov = mne.read_cov(cov_fname)\n",
    "\n",
    "                inv = mne.minimum_norm.make_inverse_operator(epochs.info, fwd, cov, loose=0, depth=depth, fixed=True) #create the inverse operator W\n",
    "                stcs = mne.minimum_norm.apply_inverse_epochs(epochs, inv, lambda2=lambda2, method='MNE') #operate on y with W to get the source space signals\n",
    "                for ind, stc in enumerate(stcs):\n",
    "                    stc_filename = os.path.join(subject_path_server,f'{reftep_subject}-epoch_{ind}')\n",
    "                    stc.save(stc_filename)\n",
    "                del stcs\n",
    "\n",
    "                    \n",
    "\n"
   ]
  },
  {
   "cell_type": "code",
   "execution_count": null,
   "metadata": {},
   "outputs": [],
   "source": []
  }
 ],
 "metadata": {
  "kernelspec": {
   "display_name": "base",
   "language": "python",
   "name": "python3"
  },
  "language_info": {
   "codemirror_mode": {
    "name": "ipython",
    "version": 3
   },
   "file_extension": ".py",
   "mimetype": "text/x-python",
   "name": "python",
   "nbconvert_exporter": "python",
   "pygments_lexer": "ipython3",
   "version": "3.11.7"
  }
 },
 "nbformat": 4,
 "nbformat_minor": 2
}
