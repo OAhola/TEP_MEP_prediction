{
 "cells": [
  {
   "cell_type": "code",
   "execution_count": 1,
   "metadata": {},
   "outputs": [],
   "source": [
    "#read metadata such as subject ages etc\n",
    "import numpy as np\n",
    "import pandas as pd\n",
    "import os\n",
    "from datetime import datetime\n",
    "from docx import Document\n",
    "sites = ['Aalto','Tuebingen']\n",
    "source_path_base =r\"D:\\REFTEP_ALL\\Source_analysis\"\n",
    "check_mri_t2 = True\n",
    "check_coil_controls = True"
   ]
  },
  {
   "cell_type": "code",
   "execution_count": 2,
   "metadata": {},
   "outputs": [
    {
     "name": "stdout",
     "output_type": "stream",
     "text": [
      "found recon all dir for 51 but T2 images only for 49 subjects.\n"
     ]
    }
   ],
   "source": [
    "if check_mri_t2:\n",
    "    n_subs = 0\n",
    "    n_t2_images = 0\n",
    "    for site in sites:\n",
    "        source_path_site = os.path.join(source_path_base,f'Source_analysis_{site}')\n",
    "        subjects_dir = fr\"D:\\REFTEP_ALL\\REFTEP_reco\\{site}_recon_all/\"\n",
    "        for subject in os.listdir(source_path_site):\n",
    "            subject_reco = subject[0:7] + \"_reco\"\n",
    "            n_subs +=1\n",
    "            if os.path.exists(os.path.join(subjects_dir,subject_reco,'mri','T2.mgz')):\n",
    "                n_t2_images +=1\n",
    "    print(f'found recon all dir for {n_subs} but T2 images only for {n_t2_images} subjects.')"
   ]
  },
  {
   "cell_type": "code",
   "execution_count": null,
   "metadata": {},
   "outputs": [
    {
     "name": "stdout",
     "output_type": "stream",
     "text": [
      "men {'Aalto': 13, 'Tuebingen': 10}\n",
      "women {'Aalto': 10, 'Tuebingen': 18}\n",
      "ages (mean pm std) {'Aalto': 27.6, 'Tuebingen': 27.4} {'Aalto': 6.9, 'Tuebingen': 5.1}\n",
      "rmts (mean pm std) {'Aalto': 47.1, 'Tuebingen': 51.4} {'Aalto': 7.8, 'Tuebingen': 8.9}\n",
      "men total:23\n",
      "women total:28\n",
      "ages total (mean pm std): 27.49, 5.96\n"
     ]
    }
   ],
   "source": [
    "#upper code cell computing these variables cell has been deleted\n",
    "print(\"men\",men)\n",
    "print(\"women\",women)\n",
    "print(\"ages (mean pm std)\",mean_ages,sds_ages)\n",
    "print(\"rmts (mean pm std)\",mean_rmts,sds_rmts)\n",
    "print(f\"men total:{np.sum(list(men.values()))}\")\n",
    "print(f\"women total:{np.sum(list(women.values()))}\")\n",
    "agelist = []\n",
    "for site in sites:\n",
    "    agelist = agelist + ages[site]\n",
    "print(f\"ages total (mean pm std): {round(np.mean(agelist),2)}, {round(np.std(agelist),2)}\")\n"
   ]
  },
  {
   "cell_type": "code",
   "execution_count": null,
   "metadata": {},
   "outputs": [],
   "source": []
  },
  {
   "cell_type": "code",
   "execution_count": 5,
   "metadata": {},
   "outputs": [
    {
     "name": "stdout",
     "output_type": "stream",
     "text": [
      "trials rejected with deviation 0\n",
      "position rejection: 0.0 ± 0.0\n",
      "number of nan stimuli to be replaced by individual info: 4.7 ± 15.1\n",
      "no legit coil poses: 1\n",
      "targeting accuracies\n",
      "position mean std: 2.3 ± 0.9\n",
      "position median: 2.125563855244972\n",
      "total nan trials to be replaced 6.440579146827325\n",
      "coil_normal: 1.3 ± 0.8\n",
      "coil_dir: 1.4 ± 0.7\n"
     ]
    }
   ],
   "source": [
    "#read coil control parameters\n",
    "import mne\n",
    "import scipy\n",
    "def get_angle_differences(directions, target_direction):\n",
    "    angle_list = []\n",
    "    for compare in directions:\n",
    "        dotprod = np.dot(compare,target_direction)\n",
    "        magnitude_ori = np.linalg.norm(compare)\n",
    "        magnitude_target_ori = np.linalg.norm(target_direction)\n",
    "        angle = np.degrees(np.arccos(np.clip(dotprod/(magnitude_ori*magnitude_target_ori),-1.0,1.0)))\n",
    "        angle_list.append(angle)\n",
    "    return np.array(angle_list)\n",
    "\n",
    "def read_coil_control_2(coil_control_path,n_trials,pos_diff_default,angle_diff_default,distance_thresh, angle_distance_thresh):\n",
    "    legit_coil_pos = True\n",
    "    try:\n",
    "        if \"Aalto\" in coil_control_path:\n",
    "            target_name = \"target_marker\"\n",
    "        elif 'Tuebingen' in coil_control_path:\n",
    "            target_name = \"instrument_marker\"\n",
    "        coil_control = scipy.io.loadmat(coil_control_path,simplify_cells=True)['trigger_markers_remaining']['trigger_markers']\n",
    "        target = scipy.io.loadmat(coil_control_path,simplify_cells=True)['trigger_markers_remaining'][target_name]\n",
    "        good_inds_notnan = np.array([i for i in range(len(coil_control)) if str(coil_control[i]['stimulus_id'])!='nan']) #some stimuli are not detected\n",
    "\n",
    "        if 'sub-020' in coil_control_path: #here the coil control was constantly off, maybe bad instrument marker,...so using median target\n",
    "            target_pos = np.median([np.array(coil_control[i]['coil_pos']) for i in good_inds_notnan],axis=0)\n",
    "            target_normal = np.median([np.array(coil_control[i]['coil_normal']) for i in good_inds_notnan],axis=0)\n",
    "            target_ori = np.median([np.array(coil_control[i]['coil_dir']) for i in good_inds_notnan],axis=0)\n",
    "        else:\n",
    "            target_pos = target['coil_pos']\n",
    "            target_normal = target['coil_normal']\n",
    "            target_ori = target['coil_dir']\n",
    "        ids = [np.array(coil_control[i]['stimulus_id']) for i in range(len(coil_control)) if i in good_inds_notnan]\n",
    "        if len(ids) != len(np.unique(ids)):\n",
    "            print(ids)\n",
    "            print(\"failed\")\n",
    "        #get coil pos, ori and normal with dummy values for nan values\n",
    "        coil_positions_all = [np.array(coil_control[i]['coil_pos']) if i in good_inds_notnan else np.array(target_pos) for i in range(len(coil_control))]\n",
    "        coil_oris_all = [np.array(coil_control[i]['coil_dir']) if i in good_inds_notnan else np.array(target_ori) for i in range(len(coil_control))]\n",
    "        coil_normals_all = [np.array(coil_control[i]['coil_normal']) if i in good_inds_notnan else np.array(target_normal) for i in range(len(coil_control))]\n",
    "        #print(target_pos, target_normal, target_ori, coil_positions_all[0], coil_oris_all[0], coil_normals_all[0])\n",
    "        distances_poses = np.linalg.norm(coil_positions_all - np.array(target_pos),axis=1) #distances of position to the target marker of each stim\n",
    "        good_indices_distances_poses = list(np.where(distances_poses <= distance_thresh)[0])\n",
    "\n",
    "        #angle differences to the target and apply thresholding\n",
    "        distances_oris = get_angle_differences(coil_oris_all, target_ori)\n",
    "        good_indices_distances_oris = list(np.where(distances_oris <= angle_distance_thresh)[0])\n",
    "\n",
    "        distances_normals = get_angle_differences(coil_normals_all, target_normal)\n",
    "        good_indices_distances_normals = list(np.where(distances_normals <= angle_distance_thresh)[0])\n",
    "\n",
    "        good_indices_distances = np.intersect1d(np.intersect1d(good_indices_distances_oris, good_indices_distances_normals),good_indices_distances_poses)\n",
    "        if len(good_indices_distances) < len(distances_poses):\n",
    "            print(f\"Dropping {len(good_indices_distances) - len(distances_poses)} trials for {subject} based on coil deviation\")\n",
    "\n",
    "        good_inds = np.intersect1d(good_indices_distances,good_inds_notnan).astype(int)\n",
    "        median_diff_pos = np.median(distances_poses[good_inds_notnan])\n",
    "        median_diff_normal = np.median(distances_normals[good_inds_notnan])\n",
    "        median_diff_ori = np.median(distances_oris[good_inds_notnan])\n",
    "        diff_pos = np.array([dist if ind in good_inds else median_diff_pos for ind, dist in enumerate(distances_poses)])\n",
    "        diff_normal = np.array([dist if ind in good_inds else median_diff_normal for ind, dist in enumerate(distances_normals)])\n",
    "        diff_ori = np.array([dist if ind in good_inds else median_diff_ori for ind, dist in enumerate(distances_oris)])\n",
    "\n",
    "    except FileNotFoundError:\n",
    "        legit_coil_pos = False\n",
    "        good_inds_notnan = None\n",
    "        good_inds = None\n",
    "        #if the file does not exist then use zero difference for ori and normal but 1.5 (mm) difference for pos\n",
    "        #print(f\"Using default difference values of position diff: {pos_diff_default} mm and normal and ori: {angle_diff_default} degrees as {coil_control_path} was not found or was otherways marked bad.\")\n",
    "        diff_pos = np.ones(shape=(1,n_trials))[0]*pos_diff_default\n",
    "        diff_normal = np.ones(shape=(1,n_trials))[0]*angle_diff_default\n",
    "        diff_ori = np.ones(shape=(1,n_trials))[0]*angle_diff_default\n",
    "        good_indices_distances = np.arange(n_trials)\n",
    "    return diff_pos, diff_normal, diff_ori, good_indices_distances, good_inds_notnan, good_inds, legit_coil_pos #return the coil control parameters\n",
    "\n",
    "if check_coil_controls:\n",
    "    n_rejected_trials = []\n",
    "    n_total_trials = []\n",
    "    n_trials_nan = []\n",
    "    no_legit_coil_poses = 0\n",
    "    pos_diff_default = 2.0\n",
    "    angle_diff_default = 1.6\n",
    "    distance_thresh = np.inf\n",
    "    angle_distance_thresh = np.inf\n",
    "    rejtrials = 0\n",
    "    diff_poses = []\n",
    "    n_nan_trials_all = []\n",
    "    n_total_trials_numbers = 0\n",
    "    diff_oris = {'coil_normal':[],'coil_dir':[]}\n",
    "    feature_path_base = r\"D:\\REFTEP_ALL\\Features_v2\"\n",
    "    if check_coil_controls:\n",
    "        for site in sites:\n",
    "            features_path_site = os.path.join(feature_path_base,f'Features_{site}')\n",
    "            source_path_site = os.path.join(source_path_base,f'Source_analysis_{site}')\n",
    "            for subject in os.listdir(features_path_site):\n",
    "                subject_source_path = os.path.join(source_path_site,subject)\n",
    "                n_trials = mne.read_epochs(os.path.join(subject_source_path,f'{subject}_final_eeg-epo.fif'),verbose=False).get_data(copy=True).shape[0]\n",
    "                #print(subject)\n",
    "                coil_control_path = os.path.join(features_path_site,subject,f'{subject}_2stimulations_final.mat')\n",
    "                diff_pos, diff_normal, diff_ori, good_indices_distances, good_inds_notnan, good_inds, legit_coil_pos = read_coil_control_2(coil_control_path,n_trials,pos_diff_default,angle_diff_default,distance_thresh,angle_distance_thresh)\n",
    "                if len(diff_pos) != n_trials:\n",
    "                    raise ValueError(f\"bad number of trials compared to coil control {n_trials} vs. {len(diff_pos)}\")\n",
    "                if legit_coil_pos:\n",
    "                    rejtrials += n_trials - len(good_indices_distances)\n",
    "                    n_total_trials.append(n_trials)\n",
    "                    n_rejected_trials.append(100*(n_trials - len(good_indices_distances))/n_trials)\n",
    "                    n_trials_nan.append(100*(n_trials - len(good_inds_notnan))/n_trials)\n",
    "                    diff_oris['coil_normal'].append(np.mean(diff_normal[good_inds]))\n",
    "                    diff_oris['coil_dir'].append(np.mean(diff_ori[good_inds]))\n",
    "                    diff_poses.append(np.mean(diff_pos[good_inds]))\n",
    "                    n_nan_trials_all.append(n_trials-len(good_inds_notnan))\n",
    "                else:\n",
    "                    no_legit_coil_poses += 1\n",
    "                    n_nan_trials_all.append(n_trials)\n",
    "                n_total_trials_numbers += n_trials\n",
    "    print(f\"trials rejected with deviation {rejtrials}\")\n",
    "    print(f'position rejection: {round(np.mean(n_rejected_trials),1)} ± {round(np.std(n_rejected_trials),1)}')\n",
    "    print(f'number of nan stimuli to be replaced by individual info: {round(np.mean(n_trials_nan),1)} ± {round(np.std(n_trials_nan),1)}')\n",
    "    print(f'no legit coil poses: {no_legit_coil_poses}')\n",
    "\n",
    "    print(\"targeting accuracies\")\n",
    "    print(f'position mean std: {round(np.mean(diff_poses),1)} ± {round(np.std(diff_poses),1)}')\n",
    "    print(f'position median: {np.median(diff_poses)}')\n",
    "    print(f'total nan trials to be replaced {100*np.sum(n_nan_trials_all)/n_total_trials_numbers}')\n",
    "    print(f'{list(diff_oris.keys())[0]}: {round(np.mean(diff_oris[list(diff_oris.keys())[0]]),1)} ± {round(np.std(diff_oris[list(diff_oris.keys())[0]]),1)}')\n",
    "    print(f'{list(diff_oris.keys())[1]}: {round(np.mean(diff_oris[list(diff_oris.keys())[1]]),1)} ± {round(np.std(diff_oris[list(diff_oris.keys())[1]]),1)}')\n",
    "\n",
    "                \n"
   ]
  },
  {
   "cell_type": "code",
   "execution_count": 6,
   "metadata": {},
   "outputs": [
    {
     "name": "stdout",
     "output_type": "stream",
     "text": [
      "total nan trials to be replaced 6.440579146827325 percent\n",
      "position: 2.125563855244972\n",
      "coil_normal: 1.1898413884798587\n",
      "coil_dir: 1.2484358972410208\n"
     ]
    }
   ],
   "source": [
    "print(f'total nan trials to be replaced {100*np.sum(n_nan_trials_all)/n_total_trials_numbers} percent')\n",
    "print(f'position: {np.median(diff_poses)}')\n",
    "print(f'{list(diff_oris.keys())[0]}: {np.median(diff_oris[list(diff_oris.keys())[0]])}')\n",
    "print(f'{list(diff_oris.keys())[1]}: {np.median(diff_oris[list(diff_oris.keys())[1]])}')"
   ]
  }
 ],
 "metadata": {
  "kernelspec": {
   "display_name": "base",
   "language": "python",
   "name": "python3"
  },
  "language_info": {
   "codemirror_mode": {
    "name": "ipython",
    "version": 3
   },
   "file_extension": ".py",
   "mimetype": "text/x-python",
   "name": "python",
   "nbconvert_exporter": "python",
   "pygments_lexer": "ipython3",
   "version": "3.11.7"
  }
 },
 "nbformat": 4,
 "nbformat_minor": 2
}
