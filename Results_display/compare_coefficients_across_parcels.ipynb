{
 "cells": [
  {
   "cell_type": "code",
   "execution_count": 1,
   "metadata": {},
   "outputs": [],
   "source": [
    "import numpy as np\n",
    "import pandas as pd\n",
    "import mne\n",
    "from scipy.stats import percentileofscore\n",
    "import os\n",
    "\n",
    "responses = ['n15','p30','n45','p60','mep']\n",
    "pos_names = ['n15','p30','n45','p60','handknob']\n",
    "usephase=False\n",
    "rejcoil = False\n",
    "models_path = fr\"D:\\REFTEP_ALL\\Models_Aalto_Tuebingen_phase_{usephase}_rejcoil_{rejcoil}_depth0.8_514/\"\n",
    "\n",
    "def read_coefs_label(excelpath):\n",
    "    datas = {}\n",
    "    df = pd.read_csv(excelpath, header=None)\n",
    "    for ind, _ in enumerate(df.iterrows()):\n",
    "        if ind in [0,1]: #header row and intercept row\n",
    "            continue\n",
    "        row_now = df.iloc[ind].values.tolist()\n",
    "        param_name = row_now[0]\n",
    "        coef = np.float64(row_now[1])\n",
    "        p = np.float64(row_now[6])\n",
    "        datas[param_name] = {'coef':coef,'pval':p}\n",
    "    return datas\n",
    "\n",
    "def read_coefs_label_phase(excelpath):\n",
    "    datas = {}\n",
    "    df = pd.read_csv(excelpath, header=None)\n",
    "    for ind, _ in enumerate(df.iterrows()):\n",
    "        if ind in [0,1]: #header row and intercept row\n",
    "            continue\n",
    "        row_now = df.iloc[ind].values.tolist()\n",
    "        param_name = row_now[0]\n",
    "        if param_name == \"phase_alpha\":\n",
    "            coef = np.float64(row_now[1])\n",
    "            p = np.float64(row_now[6])\n",
    "            datas[param_name] = {'coef':coef,'pval':p}\n",
    "    return datas"
   ]
  },
  {
   "cell_type": "code",
   "execution_count": 2,
   "metadata": {},
   "outputs": [],
   "source": [
    "usepsd=True\n",
    "usecoil=True\n",
    "usepac = False\n",
    "usetime = [True, 'sample', {'Aalto':False,'Tuebingen':False}] #time scaling by ms according to mean iti\n",
    "csv_ender = f'_usecoil_{usecoil}_usepsd_{usepsd}_usephase_{usephase}_usepac_{usepac}_usetime_{usetime[0]}_{usetime[1]}_grouptype_Subject_ref_site_None.csv'"
   ]
  },
  {
   "cell_type": "code",
   "execution_count": 3,
   "metadata": {},
   "outputs": [
    {
     "name": "stdout",
     "output_type": "stream",
     "text": [
      "n15\n",
      "n15 PSD_gamma around_handknob_label 94.28571428571429 0.06080932629595374 70\n",
      "n15 diff_coil around_n15_label 92.85714285714286 -0.0032361453827543605 70\n",
      "n15 Latency around_n15_label 98.57142857142857 0.007904807194538201 70\n",
      "n15 PSD_alpha_x_Latency around_handknob_label 91.42857142857143 0.007775193373954909 70\n",
      "p30\n",
      "p30 PSD_beta around_handknob_label 92.85714285714286 0.0646942076467926 70\n",
      "p30 PSD_gamma around_p30_label 94.28571428571429 0.023313268449869903 70\n",
      "p30 PSD_gamma around_handknob_label 97.14285714285714 0.02602596224170787 70\n",
      "n45\n",
      "n45 diff_coil around_n45_label 97.14285714285714 0.0023446268021697103 70\n",
      "p60\n",
      "p60 PSD_gamma around_p60_label 97.14285714285714 0.038345339807719064 70\n",
      "p60 PSD_gamma around_handknob_label 100.0 0.04485490620351212 70\n",
      "mep\n",
      "mep PSD_alpha around_handknob_label 97.10144927536231 0.11751293915776376 69\n",
      "mep PSD_gamma_x_Latency around_handknob_label 91.30434782608695 -0.04232514282628607 69\n",
      "mep Subject Var around_handknob_label 100.0 0.7404941334618322 69\n"
     ]
    }
   ],
   "source": [
    "gamma_params = []\n",
    "for response in responses:\n",
    "    print(response)\n",
    "    datas_response = {}\n",
    "    for parctype in ['aparc',str(['n15', 'p30', 'n45', 'p60', 'handknob'])]:\n",
    "        if parctype == \"aparc\":\n",
    "            labels = mne.read_labels_from_annot(\"fsaverage\", parctype, \"both\", subjects_dir=r\"D:\\REFTEP_ALL\\REFTEP_reco\\Aalto_recon_all\",verbose=False)\n",
    "            labelnames_anat = [label.name for label in labels if \"unknown\" not in label.name]\n",
    "            labelnames = labelnames_anat\n",
    "        elif parctype == str(['n15', 'p30', 'n45', 'p60', 'handknob']):\n",
    "            labelnames_func = [f'around_{pos_name}_label' for pos_name in pos_names if pos_name==response or pos_name=='handknob']\n",
    "            labelnames = labelnames_func\n",
    "        else:\n",
    "            raise ValueError(\"bad labeltype\")\n",
    "        for name in labelnames:\n",
    "            excelpath = f'{models_path}{response}_{name}{csv_ender}'\n",
    "            datas = read_coefs_label(excelpath)\n",
    "            datas_response[name] = datas\n",
    "    param_names = list(datas.keys())\n",
    "    for param in param_names:\n",
    "        paramvals = []\n",
    "        pvals = []\n",
    "        for name in list(datas_response.keys()):\n",
    "            paramvals.append(datas_response[name][param]['coef'])\n",
    "            pvals.append(datas_response[name][param]['pval'])\n",
    "            #param_locs.append(name)\n",
    "        #inds = np.where(np.array(pvals) < 0.05)[0]\n",
    "        inds = np.arange(len(pvals))\n",
    "        if len(inds) > 0:\n",
    "            paramvals = np.array(paramvals)[inds]\n",
    "            for name_func in labelnames_func:\n",
    "                percentile = percentileofscore(np.abs(paramvals),np.abs(datas_response[name_func][param]['coef']))\n",
    "                if percentile >= 90:\n",
    "                    print(response, param, name_func, percentile, datas_response[name_func][param]['coef'], len(inds))\n",
    "\n",
    "    \n",
    "\n",
    "    \n",
    "        \n",
    "        "
   ]
  },
  {
   "cell_type": "code",
   "execution_count": 4,
   "metadata": {},
   "outputs": [],
   "source": [
    "#analyze mu-phase and in sensorimotor region\n",
    "if usephase:\n",
    "    parcnames_of_interest = ['around_handknob_label', 'precentral-lh','postcentral-lh']\n",
    "    gamma_params = []\n",
    "    for response in responses:\n",
    "        datas_response = {}\n",
    "        for parctype in ['aparc',str(['n15', 'p30', 'n45', 'p60', 'handknob'])]:\n",
    "            if parctype == \"aparc\":\n",
    "                labels = mne.read_labels_from_annot(\"fsaverage\", parctype, \"both\", subjects_dir=r\"D:\\REFTEP_ALL\\REFTEP_reco\\Aalto_recon_all\",verbose=False)\n",
    "                labelnames_anat = [label.name for label in labels if \"unknown\" not in label.name]\n",
    "                labelnames = labelnames_anat\n",
    "            elif parctype == str(['n15', 'p30', 'n45', 'p60', 'handknob']):\n",
    "                labelnames_func = [f'around_{pos_name}_label' for pos_name in pos_names if pos_name==response or pos_name=='handknob']\n",
    "                labelnames = labelnames_func\n",
    "            else:\n",
    "                raise ValueError(\"bad labeltype\")\n",
    "            labelnames = [labelname for labelname in labelnames if labelname in parcnames_of_interest]\n",
    "            for name in labelnames:\n",
    "                excelpath = f'{models_path}{response}_{name}{csv_ender}'\n",
    "                datas = read_coefs_label_phase(excelpath)\n",
    "                datas_response[name] = datas\n",
    "\n",
    "    \n",
    "\n",
    "    \n",
    "        \n",
    "        "
   ]
  },
  {
   "cell_type": "code",
   "execution_count": 5,
   "metadata": {},
   "outputs": [
    {
     "name": "stdout",
     "output_type": "stream",
     "text": [
      "{'n15': 70, 'p30': 70, 'n45': 70, 'p60': 70, 'mep': 69}\n"
     ]
    }
   ],
   "source": [
    "#compre the coefficients of the fixed sites when the reference site has been changed\n",
    "sites = ['Aalto','Tuebingen',None]\n",
    "significants = {r:0 for r in responses}\n",
    "total_models = {r:0 for r in responses}\n",
    "ps = []\n",
    "for site in sites:\n",
    "    csv_ender_site = f'_usecoil_{usecoil}_usepsd_{usepsd}_usephase_{usephase}_usepac_{usepac}_usetime_{usetime[0]}_{usetime[1]}_grouptype_Subject_ref_site_{site}.csv'\n",
    "    for file in os.listdir(models_path):\n",
    "        if csv_ender_site in file:\n",
    "            response_name = file.split(\"_\")[0]\n",
    "            total_models[response_name] += 1\n",
    "            model_loc = file.split(\"_\")[1]\n",
    "            data = read_coefs_label(os.path.join(models_path,file))\n",
    "            param_names_of_interest = [key for key in list(data.keys()) if \"site\" in key.lower()]\n",
    "            for name in param_names_of_interest:\n",
    "                if data[name]['pval'] < 0.05:\n",
    "                    significants[response_name] += 1\n",
    "                    ps.append(data[name]['pval'])\n",
    "                    print(site)\n",
    "                    break\n",
    "for key in list(significants.keys()):\n",
    "    if significants[key] !=0:\n",
    "        print(key, round(100*(significants[key]/(total_models[key]))))\n",
    "print(total_models)\n"
   ]
  },
  {
   "cell_type": "code",
   "execution_count": null,
   "metadata": {},
   "outputs": [],
   "source": []
  }
 ],
 "metadata": {
  "kernelspec": {
   "display_name": "base",
   "language": "python",
   "name": "python3"
  },
  "language_info": {
   "codemirror_mode": {
    "name": "ipython",
    "version": 3
   },
   "file_extension": ".py",
   "mimetype": "text/x-python",
   "name": "python",
   "nbconvert_exporter": "python",
   "pygments_lexer": "ipython3",
   "version": "3.11.7"
  }
 },
 "nbformat": 4,
 "nbformat_minor": 2
}
