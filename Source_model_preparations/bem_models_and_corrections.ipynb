{
 "cells": [
  {
   "cell_type": "code",
   "execution_count": null,
   "metadata": {},
   "outputs": [],
   "source": [
    "run_original = False"
   ]
  },
  {
   "cell_type": "code",
   "execution_count": null,
   "metadata": {},
   "outputs": [],
   "source": [
    "import mne\n",
    "import os\n",
    "import numpy as np\n",
    "recon_all_path = r\"D:\\REFTEP_ALL\\REFTEP_reco\"\n",
    "recon_all_dirs = [directory for directory in os.listdir(recon_all_path) if \"fatsuppressed\" not in directory]\n",
    "conductivities = [0.33, 0.0042,0.33]\n",
    "ico=4"
   ]
  },
  {
   "cell_type": "code",
   "execution_count": null,
   "metadata": {},
   "outputs": [],
   "source": [
    "if run_original:\n",
    "    #make bem solutions for subjects\n",
    "    failed_subjects = []\n",
    "    for directory in recon_all_dirs:\n",
    "        directory_path = os.path.join(recon_all_path,directory)\n",
    "        for subject in os.listdir(directory_path):\n",
    "            if subject != \"fsaverage\": #only analyze real subjects\n",
    "                try:\n",
    "                    bem_surfaces = mne.make_bem_model(subject, ico=ico, conductivity=conductivities, subjects_dir=directory_path)\n",
    "                    bem_solution = mne.make_bem_solution(bem_surfaces)\n",
    "                    bem_path_solution_path = f'{directory_path}/{subject}/bem/bem-solution'\n",
    "                    mne.write_bem_solution(bem_path_solution_path, bem_solution, overwrite=True)\n",
    "                except RuntimeError:\n",
    "                    failed_subjects.append(subject)\n",
    "                    print(f\"error in creating bem model with {subject}\")\n"
   ]
  },
  {
   "cell_type": "code",
   "execution_count": null,
   "metadata": {},
   "outputs": [],
   "source": [
    "if run_original:\n",
    "    for subject in failed_subjects:\n",
    "        print(f\"error in creating bem model with {subject}\")\n",
    "    np.save(\"D:\\REFTEP_ALL/failed_subjects_headmodels\",failed_subjects)"
   ]
  },
  {
   "cell_type": "code",
   "execution_count": null,
   "metadata": {},
   "outputs": [],
   "source": [
    "#create copies of skull surfaces to modify\n",
    "import mne\n",
    "import os\n",
    "import numpy as np\n",
    "import shutil\n",
    "failed_subjects = np.load(\"D:\\REFTEP_ALL/failed_subjects_headmodels.npy\")\n",
    "print(failed_subjects)\n",
    "if run_original:\n",
    "    for directory in recon_all_dirs:\n",
    "            directory_path = os.path.join(recon_all_path,directory)\n",
    "            for subject in os.listdir(directory_path):\n",
    "                if subject in failed_subjects:\n",
    "                    bem_dir = f'{directory_path}/{subject}/bem/'\n",
    "                    conv_dir = f'{directory_path}/{subject}/bem/conv/'\n",
    "                    os.makedirs(conv_dir)\n",
    "                    inner_skull_path = os.path.join(bem_dir,'inner_skull.surf')\n",
    "                    inner_skull_orig_path = os.path.join(bem_dir,'inner_skull_orig.surf')\n",
    "                    coords, faces = mne.read_surface(inner_skull_path)\n",
    "                    mne.write_surface(os.path.join(conv_dir,'inner_skull.obj'),coords,faces,overwrite=True)\n",
    "                    #create backup\n",
    "                    shutil.copy(inner_skull_path,inner_skull_orig_path)\n",
    "\n",
    "                    outer_skull_path = os.path.join(bem_dir,'outer_skull.surf')\n",
    "                    outer_skull_orig_path = os.path.join(bem_dir,'outer_skull_orig.surf')\n",
    "                    coords, faces = mne.read_surface(outer_skull_path)\n",
    "                    mne.write_surface(os.path.join(conv_dir,'outer_skull.obj'),coords,faces,overwrite=True)\n",
    "                    shutil.copy(outer_skull_path,outer_skull_orig_path)"
   ]
  },
  {
   "cell_type": "markdown",
   "metadata": {},
   "source": [
    "#### You could edit the surfaces in blender or scale the inner skull surface like what has been done here"
   ]
  },
  {
   "cell_type": "code",
   "execution_count": null,
   "metadata": {},
   "outputs": [],
   "source": [
    "#edit surfaces in using blender\n",
    "#downscale the inner skull surface so that it is not intersecting\n",
    "scales = np.arange(0.999,0.949,-0.001)\n",
    "print(f\"trying scales {scales}\")\n",
    "for directory in recon_all_dirs:\n",
    "    directory_path = os.path.join(recon_all_path,directory)\n",
    "    for subject in os.listdir(directory_path):\n",
    "        if subject in failed_subjects:\n",
    "            bem_dir = f'{directory_path}/{subject}/bem/'\n",
    "            success=False\n",
    "            try_ind = 0\n",
    "            while not success:\n",
    "                scale_now = scales[try_ind]\n",
    "                #read the inner skull surface and shrink it uniformly\n",
    "                inner_skull_orig_path = os.path.join(bem_dir,'inner_skull_orig.surf') #read the original inner_skull surface\n",
    "                coords, faces = mne.read_surface(inner_skull_orig_path)\n",
    "                coords = coords*scale_now\n",
    "                mne.write_surface(os.path.join(bem_dir,'inner_skull.surf'),coords,faces,overwrite=True) #overwrite the inner_skull surface with the new one\n",
    "                try:\n",
    "                    bem_surfaces = mne.make_bem_model(subject, ico=ico, conductivity=conductivities, subjects_dir=directory_path)\n",
    "                    bem_solution = mne.make_bem_solution(bem_surfaces)\n",
    "                    bem_path_solution_path = f'{directory_path}/{subject}/bem/bem-solution'\n",
    "                    mne.write_bem_solution(bem_path_solution_path, bem_solution, overwrite=True)\n",
    "                    success = True\n",
    "                    print(f\"success in creating bem model with {subject} and scale {scales[try_ind]}\")\n",
    "                    #plot the modified surfaces\n",
    "                    fig = mne.viz.plot_bem(subject, subjects_dir=directory_path)\n",
    "                    fig.savefig(bem_dir + \"watershed_bem_inner_skull_adjusted_layers_\" + str(subject))\n",
    "                except RuntimeError:\n",
    "                    print(f\"error in creating bem model with {subject} and scale {scales[try_ind]}\")\n",
    "                    try_ind += 1\n"
   ]
  },
  {
   "cell_type": "code",
   "execution_count": null,
   "metadata": {},
   "outputs": [],
   "source": []
  }
 ],
 "metadata": {
  "kernelspec": {
   "display_name": "base",
   "language": "python",
   "name": "python3"
  },
  "language_info": {
   "codemirror_mode": {
    "name": "ipython",
    "version": 3
   },
   "file_extension": ".py",
   "mimetype": "text/x-python",
   "name": "python",
   "nbconvert_exporter": "python",
   "pygments_lexer": "ipython3",
   "version": "3.11.7"
  }
 },
 "nbformat": 4,
 "nbformat_minor": 2
}
