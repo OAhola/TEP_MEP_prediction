{
 "cells": [
  {
   "cell_type": "code",
   "execution_count": null,
   "metadata": {},
   "outputs": [],
   "source": [
    "#Create oct6 spacing source spaces for fsaverage individual subjects\n",
    "import os\n",
    "import mne\n",
    "aalto_recon_all = r\"D:\\REFTEP_ALL\\REFTEP_reco\\Aalto_recon_all/\"\n",
    "os.environ['SUBJECTS_DIR'] = aalto_recon_all\n",
    "fsaverage_dir = mne.datasets.fetch_fsaverage(subjects_dir=aalto_recon_all)\n",
    "recon_all_dir = r\"D:\\REFTEP_ALL\\REFTEP_reco\"\n",
    "spacing='oct6'\n",
    "os.environ['SUBJECTS_DIR'] = \"None\"\n",
    "\n",
    "#first create it for fsaverage\n",
    "fname_fsaverage_src = os.path.join(aalto_recon_all,'fsaverage','fsaverage-oct-6-src.fif')\n",
    "if not os.path.isfile(fname_fsaverage_src):\n",
    "    src_to = mne.setup_source_space(subject='fsaverage', spacing=spacing, subjects_dir=aalto_recon_all) #set up the source space for fsaverage\n",
    "    mne.write_source_spaces(fname_fsaverage_src, src_to, overwrite=True) #save the src file\n",
    "    \n",
    "#then for individual subjects for non-fatsuppressed T1 MRIs\n",
    "for mri_dir in os.listdir(recon_all_dir):\n",
    "    if 'fatsuppressed' not in mri_dir and 'recon_all' in mri_dir:\n",
    "        subjects_mri_directory = os.path.join(recon_all_dir,mri_dir)\n",
    "        site = mri_dir.split(\"_\")[0]\n",
    "        subjects_eeg_directory = rf\"D:\\REFTEP_ALL\\EEG_preprocessing_data\\Preprocessing_{site}\"\n",
    "        for subject in os.listdir(subjects_mri_directory):\n",
    "            if subject != 'fsaverage':\n",
    "                fname_src = os.path.join(subjects_mri_directory,subject,f'{subject}-oct-6-src.fif')\n",
    "                src = mne.setup_source_space(subject=subject, spacing=spacing, subjects_dir=subjects_mri_directory) #set up the source space for the subject (surface source space)\n",
    "                mne.write_source_spaces(fname_src, src, overwrite=True) #save the src file"
   ]
  },
  {
   "cell_type": "code",
   "execution_count": null,
   "metadata": {},
   "outputs": [],
   "source": [
    "import mne\n",
    "import os\n",
    "#create forward models for each subject based on the BEM surfaces, source-spaces, and head--mri trasformations\n",
    "\n",
    "eeg_std = 0.1 #default value for adhoc cov (in microvolts)\n",
    "recon_all_dir = r\"D:\\REFTEP_ALL\\REFTEP_reco\"\n",
    "for mri_dir in os.listdir(recon_all_dir):\n",
    "    if 'fatsuppressed' not in mri_dir:\n",
    "        subjects_mri_directory = os.path.join(recon_all_dir,mri_dir)\n",
    "        site = mri_dir.split(\"_\")[0]\n",
    "        source_site = rf\"D:\\REFTEP_ALL\\Source_analysis\\Source_analysis_{site}\"\n",
    "        for subject in os.listdir(subjects_mri_directory):\n",
    "            if subject == \"sub-105_reco\" or subject == \"sub-110_reco\" or subject == \"sub-118_reco\" or subject == \"sub-120_reco\":\n",
    "                reftep_subject = subject.split(\"_reco\")[0]\n",
    "                subject_reftep_now = [name for name in os.listdir(source_site) if reftep_subject in name]\n",
    "                if len(subject_reftep_now) not in [0,1]:\n",
    "                    print(\"Too many identifiers for this subject\")\n",
    "                    break\n",
    "                elif len(subject_reftep_now) == 0:\n",
    "                    print(f'did not find subject {reftep_subject} in {source_site}')\n",
    "                else:\n",
    "                    reftep_subject = subject_reftep_now[0]\n",
    "                    sourcepath_subject = os.path.join(source_site,reftep_subject)\n",
    "                    subject_mri_dir = os.path.join(subjects_mri_directory,subject)#the subject mri directory in subjects_mri_directory\n",
    "                    epochs_file = os.path.join(sourcepath_subject,f'{reftep_subject}_final_eeg-epo.fif') #epochs file with digitization coordinates\n",
    "                    epochs = mne.read_epochs(epochs_file)\n",
    "                    transpath = os.path.join(sourcepath_subject,f'{reftep_subject}_coreg',f'{reftep_subject}-trans.fif') #eeg-mri coregistration transformation matrix\n",
    "                    bempath = os.path.join(subject_mri_dir, 'bem','bem-solution')\n",
    "                    bem_solution = mne.read_bem_solution(bempath) #load the bem solution\n",
    "                    fname_src = os.path.join(subjects_mri_directory,subject,f'{subject}-oct-6-src.fif')\n",
    "                    src = mne.read_source_spaces(fname_src) #read source spaces\n",
    "                    fwd = mne.make_forward_solution(epochs.info, transpath, src, bem_solution, meg=False, eeg=True) #compute the forward solution\n",
    "                    fwd_fname = os.path.join(sourcepath_subject, f'{reftep_subject}-fwd.fif')\n",
    "                    mne.write_forward_solution(fwd_fname, fwd, overwrite=True)\n",
    "                    cov = mne.make_ad_hoc_cov(epochs.info, std={'eeg':eeg_std*1e-6}) #make an ad-hoc covarince matrix\n",
    "                    cov_fname = os.path.join(sourcepath_subject, f'{reftep_subject}_adhoc-cov.fif')\n",
    "                    cov.save(cov_fname, overwrite=True)"
   ]
  },
  {
   "cell_type": "code",
   "execution_count": null,
   "metadata": {},
   "outputs": [],
   "source": []
  }
 ],
 "metadata": {
  "kernelspec": {
   "display_name": "base",
   "language": "python",
   "name": "python3"
  },
  "language_info": {
   "codemirror_mode": {
    "name": "ipython",
    "version": 3
   },
   "file_extension": ".py",
   "mimetype": "text/x-python",
   "name": "python",
   "nbconvert_exporter": "python",
   "pygments_lexer": "ipython3",
   "version": "3.11.7"
  }
 },
 "nbformat": 4,
 "nbformat_minor": 2
}
