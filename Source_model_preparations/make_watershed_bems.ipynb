{
 "cells": [
  {
   "cell_type": "code",
   "execution_count": null,
   "metadata": {},
   "outputs": [],
   "source": [
    "#%pip install --upgrade mne\n",
    "#%pip install nibabel\n",
    "import nibabel\n",
    "import mne.bem\n",
    "import mne\n",
    "import os\n",
    "import subprocess\n",
    "import shutil\n",
    "import numpy as np\n",
    "os.environ['FREESURFER_HOME'] = ''\n",
    "os.environ['PATH'] = os.pathsep.join([os.path.join(os.environ['FREESURFER_HOME'],'bin'),os.environ['PATH']])\n",
    "os.environ['PATH'] = os.pathsep.join([os.path.join(os.environ['FREESURFER_HOME'],'fsfast/bin'),os.environ['PATH']])\n",
    "scale = 80\n",
    "conductivities = (0.3, 0.3/scale, 0.3) #conductivities for brain, skull, and scalp\n",
    "recon_alls_directory = \"\"\n",
    "recon_all_dirs = os.listdir(recon_alls_directory)"
   ]
  },
  {
   "cell_type": "code",
   "execution_count": null,
   "metadata": {},
   "outputs": [],
   "source": [
    "for mri_dir_base in recon_all_dirs:\n",
    "    subjects_mri_directory = recon_alls_directory + mri_dir_base + \"/\"\n",
    "    for subject in os.listdir(subjects_mri_directory):\n",
    "        if os.path.exists(subjects_mri_directory + '/' + subject + '/bem'):\n",
    "            print(f\"Bem directory for {subject} already exists, removing it...\")\n",
    "            shutil.rmtree(subjects_mri_directory + '/' + subject + '/bem')\n",
    "        if subject != 'fsaverage':\n",
    "            print(f\"Attempting to scalp surfaces for {subject}\")\n",
    "            mne.bem.make_watershed_bem(subject, subjects_dir=subjects_mri_directory, atlas=True, overwrite=True) #make the surfaces for brain, inner and outer skull and scalp\n",
    "            mne.bem.make_scalp_surfaces(subject, subjects_dir=subjects_mri_directory,force=True,overwrite=True) #make scalp surfaces\n",
    "            fig = mne.viz.plot_bem(subject, subjects_dir=subjects_mri_directory) #plot the surfaces on mri and save the figure\n",
    "            fig.savefig(subjects_mri_directory + subject + \"/bem/watershed_bem_original_layers_\"+str(subject))"
   ]
  }
 ],
 "metadata": {
  "kernelspec": {
   "display_name": "base",
   "language": "python",
   "name": "python3"
  },
  "language_info": {
   "codemirror_mode": {
    "name": "ipython",
    "version": 3
   },
   "file_extension": ".py",
   "mimetype": "text/x-python",
   "name": "python",
   "nbconvert_exporter": "python",
   "pygments_lexer": "ipython3",
   "version": "3.11.3"
  }
 },
 "nbformat": 4,
 "nbformat_minor": 2
}
