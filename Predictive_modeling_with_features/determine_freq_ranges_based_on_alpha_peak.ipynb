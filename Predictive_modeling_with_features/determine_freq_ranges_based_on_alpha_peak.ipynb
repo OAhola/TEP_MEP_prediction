{
 "cells": [
  {
   "cell_type": "code",
   "execution_count": null,
   "metadata": {},
   "outputs": [],
   "source": [
    "# get individual alpha ranges\n",
    "import os\n",
    "import scipy\n",
    "from reftep_util_funcs import *\n",
    "\n",
    "determine_freq_ranges = True\n",
    "if determine_freq_ranges:\n",
    "    alpha_default = 10.5\n",
    "    freq_range_names = ['theta','alpha','beta','gamma']\n",
    "    for site in ['Aalto','Tuebingen']:\n",
    "            source_site = rf\"D:\\REFTEP_ALL\\Source_analysis\\Source_analysis_{site}\"\n",
    "            features_site = rf\"D:\\REFTEP_ALL\\Features_v2\\Features_{site}\"\n",
    "            for subject in os.listdir(source_site):\n",
    "                sourcepath_subject = os.path.join(source_site,subject)\n",
    "                featurepath_subject = os.path.join(features_site,subject)\n",
    "                os.makedirs(featurepath_subject, exist_ok=True)\n",
    "                epochs_filepath = os.path.join(sourcepath_subject,f'{subject}_final_eeg-epo.fif')\n",
    "                epochs = mne.read_epochs(epochs_filepath,verbose=False).crop(tmin=-1.4, tmax=-0.015) #use more data to estimate peak alpha freq, not from -1.015 till -0.015\n",
    "                #estimate/determine alpha peak\n",
    "                print(subject)\n",
    "                alpha_peak, freqs = get_individual_alpha_peak(epochs,fmin=7, fmax=14, bw_scale=1.5) #get narrow bins\n",
    "                alpha_peak_now = alpha_peak if alpha_peak is not False else alpha_default\n",
    "                #define frequency ranges based on the alpha peak and save the frequency ranges\n",
    "                _, freq_range_dict = get_freq_ranges_based_on_alpha_peak(alpha_peak_now,freq_range_names)\n",
    "                freq_range_dict['alpha_peak'] = alpha_peak_now #add alpha peak info to dict\n",
    "                is_default = True if alpha_peak is False else False\n",
    "                freq_range_dict['alpha_peak_is_default'] = is_default #add alpha peak info to dict whether it is default or not\n",
    "                print(subject, freq_range_dict)\n",
    "                print(freqs)\n",
    "                #save the info as .npy and .mat files\n",
    "                freq_range_dict_path = os.path.join(featurepath_subject,f'{subject}-freq_ranges_dict')\n",
    "                np.save(freq_range_dict_path,freq_range_dict)\n",
    "                freq_range_dict_path_mat = os.path.join(featurepath_subject,f'{subject}-freq_ranges_dict_matlab.mat')\n",
    "                scipy.io.savemat(freq_range_dict_path_mat,freq_range_dict)"
   ]
  },
  {
   "cell_type": "code",
   "execution_count": null,
   "metadata": {},
   "outputs": [],
   "source": [
    "import os\n",
    "import numpy as np\n",
    "features_path = r\"D:\\REFTEP_ALL\\Features_v2\"\n",
    "alpha_peaks_all = []\n",
    "n_default_alpha_peaks = 0\n",
    "subs = 0\n",
    "for site_dir in ['Features_Aalto','Features_Tuebingen']:\n",
    "    if \"Features\" in site_dir:\n",
    "        site_path = os.path.join(features_path,site_dir)\n",
    "        for subject in os.listdir(site_path):\n",
    "            subs += 1\n",
    "            fr_dict = np.load(os.path.join(site_path,subject,f'{subject}-freq_ranges_dict.npy'),allow_pickle=True).item()\n",
    "            alpha_peak = fr_dict['alpha_peak']\n",
    "            if not fr_dict['alpha_peak_is_default']:\n",
    "                alpha_peaks_all.append(alpha_peak)\n",
    "            else:\n",
    "                n_default_alpha_peaks += 1\n",
    "print(subs)\n",
    "print(np.mean(alpha_peaks_all))\n",
    "print(np.std(alpha_peaks_all))\n",
    "print(np.min(alpha_peaks_all))\n",
    "print(np.max(alpha_peaks_all))\n",
    "print(n_default_alpha_peaks)"
   ]
  },
  {
   "cell_type": "code",
   "execution_count": null,
   "metadata": {},
   "outputs": [],
   "source": [
    "for fr_name in ['theta','alpha','beta','gamma']:\n",
    "    mins = []\n",
    "    maxs = []\n",
    "    for site_dir in ['Features_Aalto','Features_Tuebingen']:\n",
    "        if \"Features\" in site_dir:\n",
    "            site_path = os.path.join(features_path,site_dir)\n",
    "            for subject in os.listdir(site_path):\n",
    "                subs += 1\n",
    "                fr_dict = np.load(os.path.join(site_path,subject,f'{subject}-freq_ranges_dict.npy'),allow_pickle=True).item()\n",
    "                mins.append(fr_dict[fr_name][0])\n",
    "                maxs.append(fr_dict[fr_name][1])\n",
    "    print(fr_name)\n",
    "    print(round(np.mean(mins),1))\n",
    "    print(round(np.mean(maxs),1))\n"
   ]
  },
  {
   "cell_type": "code",
   "execution_count": null,
   "metadata": {},
   "outputs": [],
   "source": []
  }
 ],
 "metadata": {
  "kernelspec": {
   "display_name": "base",
   "language": "python",
   "name": "python3"
  },
  "language_info": {
   "codemirror_mode": {
    "name": "ipython",
    "version": 3
   },
   "file_extension": ".py",
   "mimetype": "text/x-python",
   "name": "python",
   "nbconvert_exporter": "python",
   "pygments_lexer": "ipython3",
   "version": "3.11.7"
  }
 },
 "nbformat": 4,
 "nbformat_minor": 2
}
